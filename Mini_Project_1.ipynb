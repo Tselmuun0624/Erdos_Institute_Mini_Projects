{
  "cells": [
    {
      "cell_type": "markdown",
      "id": "957e7b08",
      "metadata": {
        "id": "957e7b08"
      },
      "source": [
        "# Mini Project 1\n",
        "\n",
        "**2025 Introduction to Quantiative Methods in Finance**\n",
        "\n",
        "**The Erdös Institute**\n",
        "\n",
        "**Instructions** Use current stock data to create two potentially profitable investment portfolios. One that is higher risk and one that is lower risk.\n",
        "\n",
        "-- You are to interpret and explain your interpretation of a high risk profile and low risk profile of a portfolio. You should provide some measurable quantitative data in your explanation.\n",
        "\n",
        "In this poject, we will maximize the objective function $f(weights) = \\textrm{profit}(weights) - \\lambda\\cdot\\textrm{volatility}(weights)$ with different $\\lambda$ constants $(\\lambda = 1, \\lambda = 7)$.\n",
        "\n",
        "By increasing the lambda, we will have higher risk portfolio with a possibly higher profit."
      ]
    },
    {
      "cell_type": "code",
      "execution_count": 51,
      "id": "ceced76b",
      "metadata": {
        "id": "ceced76b"
      },
      "outputs": [],
      "source": [
        "### Import modules ###\n",
        "\n",
        "import numpy as np\n",
        "import matplotlib.pyplot as plt\n",
        "import pandas as pd\n",
        "import seaborn as sns\n",
        "from scipy.optimize import minimize\n",
        "import datetime as dt\n",
        "sns.set_style('darkgrid')\n",
        "\n",
        "import yfinance as yf"
      ]
    },
    {
      "cell_type": "code",
      "source": [
        "### Load data for each stock from yfinance ###\n",
        "tickers = ['MSFT', 'GOOGL', 'AMZN', 'TSLA', 'F']\n",
        "\n",
        "#yf.Ticker(tickers[5]).info\n",
        "\n",
        "start_date = dt.datetime.today() - dt.timedelta(days = 1*365)\n",
        "end_date = dt.datetime.today() - dt.timedelta(days = 0*365)\n",
        "\n",
        "stock = yf.download(tickers, start = start_date, end =end_date)"
      ],
      "metadata": {
        "colab": {
          "base_uri": "https://localhost:8080/"
        },
        "id": "MF7Tl1tWc1yM",
        "outputId": "54914f26-2cf4-4ec8-f138-b7b027ea5f04"
      },
      "id": "MF7Tl1tWc1yM",
      "execution_count": 52,
      "outputs": [
        {
          "output_type": "stream",
          "name": "stderr",
          "text": [
            "/tmp/ipython-input-52-22305822.py:9: FutureWarning: YF.download() has changed argument auto_adjust default to True\n",
            "  stock = yf.download(tickers, start = start_date, end =end_date)\n",
            "[*********************100%***********************]  5 of 5 completed\n"
          ]
        }
      ]
    },
    {
      "cell_type": "code",
      "source": [
        "### Setting parameters and constants ###\n",
        "\n",
        "#Calculate the covariance matrix\n",
        "daily_returns = np.log(stock['Close']/stock['Close'].shift(1))\n",
        "daily_returns = daily_returns.dropna()\n",
        "covariance_matrix = 252*((daily_returns).cov())\n",
        "\n",
        "\n",
        "#Create a dictionary of standard deviations of daily return\n",
        "#Normalize the standard deviation for yearly by multiplying by sqrt(#trading days in year ~ 252)\n",
        "annualized_volatility = {ticker: np.std(daily_returns[ticker])*np.sqrt(252) for ticker in tickers}\n",
        "\n",
        "\n",
        "\n",
        "# Number of assets\n",
        "n_assets = len(tickers)\n",
        "\n",
        "# Define an initial guess for asset weights (n=5 in our case)\n",
        "initial_weights = np.array([1/n_assets] * n_assets)\n",
        "\n",
        "# Define weight constraints\n",
        "#Sum of weights equals 1\n",
        "#Allocate at least 5% of capital into each index in stock_symbols\n",
        "#Do not allocate more than 35% of capital into each index in stock_symbol\n",
        "\n",
        "constraints = ({'type': 'eq', 'fun': lambda weights: np.sum(weights)-1},\n",
        "               {'type': 'ineq', 'fun': lambda weights: min(weights)-.05},\n",
        "              {'type': 'ineq', 'fun': lambda weights: .35-max(weights)})\n",
        "\n"
      ],
      "metadata": {
        "id": "E73SjDpysIm8"
      },
      "id": "E73SjDpysIm8",
      "execution_count": 54,
      "outputs": []
    },
    {
      "cell_type": "code",
      "source": [
        "### Define functions ###\n",
        "\n",
        "def annual_log_return(weights):\n",
        "    portfolio_value = (stock['Close'] * weights).sum(axis=1)\n",
        "    daily_log_returns = np.log(portfolio_value / portfolio_value.shift(1))\n",
        "    annualized_log_return = np.sum(daily_log_returns.dropna())\n",
        "    return annualized_log_return\n",
        "\n",
        "def portfolio_volatility(weights):\n",
        "    portfolio_std_dev = np.sqrt(np.dot(weights.T, np.dot(covariance_matrix, weights)))\n",
        "    return portfolio_std_dev\n",
        "\n",
        "def objective_1(weights):\n",
        "    return -(annual_log_return(weights) - 7.0*portfolio_volatility(weights)) # lambda = 7\n",
        "\n",
        "def objective_2(weights):\n",
        "    return -(annual_log_return(weights) - 1.0*portfolio_volatility(weights)) # lambda = 1\n",
        "\n"
      ],
      "metadata": {
        "id": "cKew6REdIEbz"
      },
      "id": "cKew6REdIEbz",
      "execution_count": 58,
      "outputs": []
    },
    {
      "cell_type": "code",
      "source": [
        "### Simulate and print the results ###\n",
        "\n",
        "result_1 = minimize(objective_1, initial_weights, constraints=constraints)\n",
        "result_2 = minimize(objective_2, initial_weights, constraints=constraints)\n",
        "\n",
        "\n",
        "\n",
        "# Optimal asset weights\n",
        "\n",
        "optimal_weights_1 = result_1.x\n",
        "optimal_weights_2 = result_2.x\n",
        "\n",
        "\n",
        "#print(result_1)\n",
        "\n",
        "# Print the optimal weights and expected returns\n",
        "print(\"Optimal Asset Weights to minimize ojective_1:\")\n",
        "for ticker, weight in zip(tickers, optimal_weights_1):\n",
        "    print(f\"{ticker}: Weight = {weight:.4f}\")\n",
        "\n",
        "print('----'*20)\n",
        "\n",
        "print(\"Optimal Asset Weights to minimize objective_2:\")\n",
        "for ticker, weight in zip(tickers, optimal_weights_2):\n",
        "    print(f\"{ticker}: Weight = {weight:.4f}\")\n",
        "\n",
        "print('----'*20)\n",
        "\n",
        "print(\"Annual log profit for objective_1:\")\n",
        "print(annual_log_return(optimal_weights_1))\n",
        "print(\"Volatility for ojective_1:\")\n",
        "print(portfolio_volatility(result_1.x))\n",
        "\n",
        "print('----'*20)\n",
        "\n",
        "print(\"Annual log profit for objective_2:\")\n",
        "print(annual_log_return(optimal_weights_2))\n",
        "print(\"Volatility for ojective_2:\")\n",
        "print(portfolio_volatility(result_2.x))"
      ],
      "metadata": {
        "colab": {
          "base_uri": "https://localhost:8080/"
        },
        "id": "RZelrEP5IRYT",
        "outputId": "a327d548-465f-4236-a093-6d129423892e"
      },
      "id": "RZelrEP5IRYT",
      "execution_count": 59,
      "outputs": [
        {
          "output_type": "stream",
          "name": "stderr",
          "text": [
            "/usr/local/lib/python3.11/dist-packages/pandas/core/arraylike.py:399: RuntimeWarning: invalid value encountered in log\n",
            "  result = getattr(ufunc, method)(*inputs, **kwargs)\n"
          ]
        },
        {
          "output_type": "stream",
          "name": "stdout",
          "text": [
            "Optimal Asset Weights to minimize ojective_1:\n",
            "MSFT: Weight = 0.0857\n",
            "GOOGL: Weight = 0.2685\n",
            "AMZN: Weight = 0.2458\n",
            "TSLA: Weight = 0.3500\n",
            "F: Weight = 0.0500\n",
            "--------------------------------------------------------------------------------\n",
            "Optimal Asset Weights to minimize objective_2:\n",
            "MSFT: Weight = 0.2000\n",
            "GOOGL: Weight = 0.3500\n",
            "AMZN: Weight = 0.0500\n",
            "TSLA: Weight = 0.0500\n",
            "F: Weight = 0.3500\n",
            "--------------------------------------------------------------------------------\n",
            "Annual log profit for objective_1:\n",
            "0.09039249430010711\n",
            "Volatility for ojective_1:\n",
            "0.25530729881536096\n",
            "--------------------------------------------------------------------------------\n",
            "Annual log profit for objective_2:\n",
            "0.2994312911390325\n",
            "Volatility for ojective_2:\n",
            "0.3893462271597941\n"
          ]
        }
      ]
    },
    {
      "cell_type": "markdown",
      "source": [
        "As we can see in the result, the objective_2 function has higher volatility compared to objective_1 function, because we chose larger $\\lambda$ (hence more importance in minimizing volatility in the objective function).\n",
        "\n",
        "However, the annual log profit is larger for objective_1 because we are putting less importance in minmizing volatility and more importance in maximizing the profit."
      ],
      "metadata": {
        "id": "wqRfry0sJIC5"
      },
      "id": "wqRfry0sJIC5"
    }
  ],
  "metadata": {
    "kernelspec": {
      "display_name": "Python 3 (ipykernel)",
      "language": "python",
      "name": "python3"
    },
    "language_info": {
      "codemirror_mode": {
        "name": "ipython",
        "version": 3
      },
      "file_extension": ".py",
      "mimetype": "text/x-python",
      "name": "python",
      "nbconvert_exporter": "python",
      "pygments_lexer": "ipython3",
      "version": "3.9.13"
    },
    "colab": {
      "provenance": []
    }
  },
  "nbformat": 4,
  "nbformat_minor": 5
}